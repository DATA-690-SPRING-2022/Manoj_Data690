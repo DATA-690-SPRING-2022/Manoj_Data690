{
  "nbformat": 4,
  "nbformat_minor": 0,
  "metadata": {
    "colab": {
      "name": "Assignmet_04_Part_A.ipynb",
      "provenance": [],
      "authorship_tag": "ABX9TyOiXh3dqW/PoQCX1PsDdl8g",
      "include_colab_link": true
    },
    "kernelspec": {
      "name": "python3",
      "display_name": "Python 3"
    },
    "language_info": {
      "name": "python"
    }
  },
  "cells": [
    {
      "cell_type": "markdown",
      "metadata": {
        "id": "view-in-github",
        "colab_type": "text"
      },
      "source": [
        "<a href=\"https://colab.research.google.com/github/manojboyapati/Manoj_Data690/blob/main/Assignment_04/Assignmet_04_Part_A.ipynb\" target=\"_parent\"><img src=\"https://colab.research.google.com/assets/colab-badge.svg\" alt=\"Open In Colab\"/></a>"
      ]
    },
    {
      "cell_type": "markdown",
      "source": [
        "Assignment_04_Part_A\n",
        "\n",
        "Name: Manoj\n",
        "\n",
        "Date: 02/26/2022"
      ],
      "metadata": {
        "id": "9xYbaS0Idt-x"
      }
    },
    {
      "cell_type": "markdown",
      "source": [
        "1. Write code to open the text file census_costs.txt and read all lines into a list named \"line_list\". Print line_list."
      ],
      "metadata": {
        "id": "y615QWCfeB1k"
      }
    },
    {
      "cell_type": "code",
      "execution_count": 2,
      "metadata": {
        "colab": {
          "base_uri": "https://localhost:8080/"
        },
        "id": "oyav7HNbdstq",
        "outputId": "6263af41-52f2-4e4a-a256-cd03a236d61f"
      },
      "outputs": [
        {
          "output_type": "execute_result",
          "data": {
            "text/plain": [
              "['Source: https://www.genealogybranches.com/censuscosts.html\\n',\n",
              " 'Census Year\\tTotal Population\\tCensus Cost\\tAverage Cost Per Person\\n',\n",
              " '1790\\t3,929,214\\t$44,377\\t1.13 cents\\n',\n",
              " '1800\\t5,308,483\\t$66,109\\t1.24 cents\\n',\n",
              " '1810\\t7,239,881\\t$178,445\\t2.46 cents\\n',\n",
              " '1820\\t9,633,822\\t$208,526\\t2.16 cents\\n',\n",
              " '1830\\t12,866,020\\t$378,545\\t2.94 cents\\n',\n",
              " '1840\\t17,069,458\\t$833,371\\t4.88 cents\\n',\n",
              " '1850\\t23,191,876\\t$1,423,351\\t6.14 cents\\n',\n",
              " '1860\\t31,443,321\\t$1,969,377\\t6.26 cents\\n',\n",
              " '1870\\t38,558,371\\t$3,421,198\\t8.87 cents\\n',\n",
              " '1880\\t50,155,783\\t$5,790,678\\t11.54 cents\\n',\n",
              " '1890\\t62,979,766\\t$11,547,127\\t18.33 cents\\n',\n",
              " '1900\\t76,303,387\\t$11,854,000\\t15.54 cents\\n',\n",
              " '1910\\t91,972,266\\t$15,968,000\\t17.07 cents\\n',\n",
              " '1920\\t105,710,620\\t$25,117,000\\t23.76 cents\\n',\n",
              " '1930\\t122,775,046\\t$40,156,000\\t32.71 cents\\n',\n",
              " '1940\\t131,669,275\\t$67,527,000\\t51.29 cents\\n',\n",
              " '1950\\t151,325,798\\t$91,462,000\\t60.44 cents\\n',\n",
              " '1960\\t179,323,175\\t$127,934,000\\t71.34 cents\\n',\n",
              " '1970\\t203,302,031\\t$247,653,000\\t$1.22\\n',\n",
              " '1980\\t226,542,199\\t$1,078,488,000\\t$4.76\\n',\n",
              " '1990\\t248,718,301\\t$2,492,830,000\\t$10.02\\n',\n",
              " '2000\\t281,421,906\\t$4.5 Billion\\t$15.99\\n',\n",
              " '2010*\\t308,745,538\\t$13 Billion\\t$42.11\\n']"
            ]
          },
          "metadata": {},
          "execution_count": 2
        }
      ],
      "source": [
        "with open(\"census_costs.txt\",\"r\") as f:\n",
        "    line_list = f.readlines()\n",
        "\n",
        "line_list"
      ]
    },
    {
      "cell_type": "markdown",
      "source": [
        "2. Extract the first two lines and put them in a different list named \"top2_list\". You will need to use them later. Print the top2_list."
      ],
      "metadata": {
        "id": "tEiT6dZTedO3"
      }
    },
    {
      "cell_type": "code",
      "source": [
        "top2_list = line_list[0:2]\n",
        "top2_list"
      ],
      "metadata": {
        "colab": {
          "base_uri": "https://localhost:8080/"
        },
        "id": "_t0le5lnejvd",
        "outputId": "da5e7822-0072-416e-f4c1-7b6b8319a89b"
      },
      "execution_count": 3,
      "outputs": [
        {
          "output_type": "execute_result",
          "data": {
            "text/plain": [
              "['Source: https://www.genealogybranches.com/censuscosts.html\\n',\n",
              " 'Census Year\\tTotal Population\\tCensus Cost\\tAverage Cost Per Person\\n']"
            ]
          },
          "metadata": {},
          "execution_count": 3
        }
      ]
    },
    {
      "cell_type": "markdown",
      "source": [
        "3. Put the rest of the lines (containing useful data elements) in a new list named \"data_list\". Print data_list."
      ],
      "metadata": {
        "id": "_wYoagl2esua"
      }
    },
    {
      "cell_type": "code",
      "source": [
        "data_list = line_list[2:]\n",
        "data_list"
      ],
      "metadata": {
        "colab": {
          "base_uri": "https://localhost:8080/"
        },
        "id": "rWU9P0doepjV",
        "outputId": "36065cf3-6a5e-4a4b-f151-c51bd38e0451"
      },
      "execution_count": 4,
      "outputs": [
        {
          "output_type": "execute_result",
          "data": {
            "text/plain": [
              "['1790\\t3,929,214\\t$44,377\\t1.13 cents\\n',\n",
              " '1800\\t5,308,483\\t$66,109\\t1.24 cents\\n',\n",
              " '1810\\t7,239,881\\t$178,445\\t2.46 cents\\n',\n",
              " '1820\\t9,633,822\\t$208,526\\t2.16 cents\\n',\n",
              " '1830\\t12,866,020\\t$378,545\\t2.94 cents\\n',\n",
              " '1840\\t17,069,458\\t$833,371\\t4.88 cents\\n',\n",
              " '1850\\t23,191,876\\t$1,423,351\\t6.14 cents\\n',\n",
              " '1860\\t31,443,321\\t$1,969,377\\t6.26 cents\\n',\n",
              " '1870\\t38,558,371\\t$3,421,198\\t8.87 cents\\n',\n",
              " '1880\\t50,155,783\\t$5,790,678\\t11.54 cents\\n',\n",
              " '1890\\t62,979,766\\t$11,547,127\\t18.33 cents\\n',\n",
              " '1900\\t76,303,387\\t$11,854,000\\t15.54 cents\\n',\n",
              " '1910\\t91,972,266\\t$15,968,000\\t17.07 cents\\n',\n",
              " '1920\\t105,710,620\\t$25,117,000\\t23.76 cents\\n',\n",
              " '1930\\t122,775,046\\t$40,156,000\\t32.71 cents\\n',\n",
              " '1940\\t131,669,275\\t$67,527,000\\t51.29 cents\\n',\n",
              " '1950\\t151,325,798\\t$91,462,000\\t60.44 cents\\n',\n",
              " '1960\\t179,323,175\\t$127,934,000\\t71.34 cents\\n',\n",
              " '1970\\t203,302,031\\t$247,653,000\\t$1.22\\n',\n",
              " '1980\\t226,542,199\\t$1,078,488,000\\t$4.76\\n',\n",
              " '1990\\t248,718,301\\t$2,492,830,000\\t$10.02\\n',\n",
              " '2000\\t281,421,906\\t$4.5 Billion\\t$15.99\\n',\n",
              " '2010*\\t308,745,538\\t$13 Billion\\t$42.11\\n']"
            ]
          },
          "metadata": {},
          "execution_count": 4
        }
      ]
    },
    {
      "cell_type": "markdown",
      "source": [
        "4. Extract the column \"Census Year\" from data_list and assign them to a list named year_list. Remove the \"*\" from the last element \"2010*\". Print the cleansed year_list."
      ],
      "metadata": {
        "id": "q-A-czLVeyXn"
      }
    },
    {
      "cell_type": "code",
      "source": [
        "year_list = []\n",
        "for line in data_list:\n",
        "    year_list.append(line[0:4])\n",
        "print(year_list)"
      ],
      "metadata": {
        "colab": {
          "base_uri": "https://localhost:8080/"
        },
        "id": "9MAVqc5fe4vr",
        "outputId": "58fd9eb3-94f0-48c8-fa3f-7eab25d4788a"
      },
      "execution_count": 5,
      "outputs": [
        {
          "output_type": "stream",
          "name": "stdout",
          "text": [
            "['1790', '1800', '1810', '1820', '1830', '1840', '1850', '1860', '1870', '1880', '1890', '1900', '1910', '1920', '1930', '1940', '1950', '1960', '1970', '1980', '1990', '2000', '2010']\n"
          ]
        }
      ]
    },
    {
      "cell_type": "markdown",
      "source": [
        "5. Extract the \"Total Population\" column from the data_list and assign them to a list named \"pop_list\". Remove the \",\" from the numbers since Python doesn't recognize them. Print the cleansed \"pop_list\"."
      ],
      "metadata": {
        "id": "2GUo_Qu9e5oS"
      }
    },
    {
      "cell_type": "code",
      "source": [
        "pop_list=[]\n",
        "for i in data_list:\n",
        "    pop_list.append(i.split('\\t')[1].replace(',',''))\n",
        "pop_list"
      ],
      "metadata": {
        "colab": {
          "base_uri": "https://localhost:8080/"
        },
        "id": "nqIVN1uTe-wa",
        "outputId": "90a08c74-976d-4928-a872-d7f2d4653b28"
      },
      "execution_count": 6,
      "outputs": [
        {
          "output_type": "execute_result",
          "data": {
            "text/plain": [
              "['3929214',\n",
              " '5308483',\n",
              " '7239881',\n",
              " '9633822',\n",
              " '12866020',\n",
              " '17069458',\n",
              " '23191876',\n",
              " '31443321',\n",
              " '38558371',\n",
              " '50155783',\n",
              " '62979766',\n",
              " '76303387',\n",
              " '91972266',\n",
              " '105710620',\n",
              " '122775046',\n",
              " '131669275',\n",
              " '151325798',\n",
              " '179323175',\n",
              " '203302031',\n",
              " '226542199',\n",
              " '248718301',\n",
              " '281421906',\n",
              " '308745538']"
            ]
          },
          "metadata": {},
          "execution_count": 6
        }
      ]
    },
    {
      "cell_type": "markdown",
      "source": [
        "6. Extract the \"Census Cost\" column from the data_list and assign them to a list named \"cost_list\". Remove the \",\", and \"$\", and \"Billion\". Make sure to add the \"0\"s to the numbers from which you removed \"Billion\". Print the cleansed cost_list."
      ],
      "metadata": {
        "id": "8yvTEa4_e_Pc"
      }
    },
    {
      "cell_type": "code",
      "source": [
        "cost_list=[]\n",
        "for i in data_list:\n",
        "    cost_list.append(i.split('\\t')[2].replace(',','').replace('$','').replace(' Billion','000000000').replace('','').replace('.',''))\n",
        "cost_list"
      ],
      "metadata": {
        "colab": {
          "base_uri": "https://localhost:8080/"
        },
        "id": "uqCkiz5rfD34",
        "outputId": "9409018a-600c-4066-e038-9c7c5bc0f6e9"
      },
      "execution_count": 7,
      "outputs": [
        {
          "output_type": "execute_result",
          "data": {
            "text/plain": [
              "['44377',\n",
              " '66109',\n",
              " '178445',\n",
              " '208526',\n",
              " '378545',\n",
              " '833371',\n",
              " '1423351',\n",
              " '1969377',\n",
              " '3421198',\n",
              " '5790678',\n",
              " '11547127',\n",
              " '11854000',\n",
              " '15968000',\n",
              " '25117000',\n",
              " '40156000',\n",
              " '67527000',\n",
              " '91462000',\n",
              " '127934000',\n",
              " '247653000',\n",
              " '1078488000',\n",
              " '2492830000',\n",
              " '45000000000',\n",
              " '13000000000']"
            ]
          },
          "metadata": {},
          "execution_count": 7
        }
      ]
    },
    {
      "cell_type": "markdown",
      "source": [
        "7. Extract the \"Average Cost per Person\" column from the data_list and assign them to a list named \"avg_list\". Remove the \"cents\", and \"$\". Make sure to divide the numbers in cents by 100 so that all numbers are measured in dollar. Print the cleansed avg_list."
      ],
      "metadata": {
        "id": "x0zXcSKzfEyz"
      }
    },
    {
      "cell_type": "code",
      "source": [
        "avg_list=[]\n",
        "for i in data_list:\n",
        "    avg_list.append(i.split('\\t')[3].replace('$','').replace(' cents','').replace('\\n',''))\n",
        "avg_list"
      ],
      "metadata": {
        "colab": {
          "base_uri": "https://localhost:8080/"
        },
        "id": "2UEVD02QfVGv",
        "outputId": "bf718bcd-c013-486f-a4c1-3d5479a3e88f"
      },
      "execution_count": 8,
      "outputs": [
        {
          "output_type": "execute_result",
          "data": {
            "text/plain": [
              "['1.13',\n",
              " '1.24',\n",
              " '2.46',\n",
              " '2.16',\n",
              " '2.94',\n",
              " '4.88',\n",
              " '6.14',\n",
              " '6.26',\n",
              " '8.87',\n",
              " '11.54',\n",
              " '18.33',\n",
              " '15.54',\n",
              " '17.07',\n",
              " '23.76',\n",
              " '32.71',\n",
              " '51.29',\n",
              " '60.44',\n",
              " '71.34',\n",
              " '1.22',\n",
              " '4.76',\n",
              " '10.02',\n",
              " '15.99',\n",
              " '42.11']"
            ]
          },
          "metadata": {},
          "execution_count": 8
        }
      ]
    },
    {
      "cell_type": "markdown",
      "source": [
        "8. Coalesce the cleansed data and save them to a text file named \"census_cost.csv\". The new file should look similar to the original source file except that it is in comma-delimited format and the numbers have been cleansed. The top two lines from the original file should be retained in the new file."
      ],
      "metadata": {
        "id": "G9veUANUfVoP"
      }
    },
    {
      "cell_type": "code",
      "source": [
        "with open(\"census_cost.csv\",'w') as cleansed_file:\n",
        "    for i in top2_list:\n",
        "        cleansed_file.write(i.replace('\\t',','))\n",
        "    for j in range(len(year_list)):\n",
        "        cleansed_file.write(f\"{year_list[j]},{pop_list[j]},{cost_list[j]},{avg_list[j]}\\n\")"
      ],
      "metadata": {
        "id": "TGiZGuApfakx"
      },
      "execution_count": 9,
      "outputs": []
    },
    {
      "cell_type": "markdown",
      "source": [
        "9. Write code to open the newly-created file \"census_cost.csv\", read all lines and display them. How does it look?"
      ],
      "metadata": {
        "id": "ZY2INEVCfbAF"
      }
    },
    {
      "cell_type": "code",
      "source": [
        "with open(\"census_cost.csv\",\"r\") as f:\n",
        "    lines = f.readlines()\n",
        "lines"
      ],
      "metadata": {
        "colab": {
          "base_uri": "https://localhost:8080/"
        },
        "id": "kW44d-wJfhWZ",
        "outputId": "aaf0054f-998a-4ad6-aa3c-55e6866933d7"
      },
      "execution_count": 10,
      "outputs": [
        {
          "output_type": "execute_result",
          "data": {
            "text/plain": [
              "['Source: https://www.genealogybranches.com/censuscosts.html\\n',\n",
              " 'Census Year,Total Population,Census Cost,Average Cost Per Person\\n',\n",
              " '1790,3929214,44377,1.13\\n',\n",
              " '1800,5308483,66109,1.24\\n',\n",
              " '1810,7239881,178445,2.46\\n',\n",
              " '1820,9633822,208526,2.16\\n',\n",
              " '1830,12866020,378545,2.94\\n',\n",
              " '1840,17069458,833371,4.88\\n',\n",
              " '1850,23191876,1423351,6.14\\n',\n",
              " '1860,31443321,1969377,6.26\\n',\n",
              " '1870,38558371,3421198,8.87\\n',\n",
              " '1880,50155783,5790678,11.54\\n',\n",
              " '1890,62979766,11547127,18.33\\n',\n",
              " '1900,76303387,11854000,15.54\\n',\n",
              " '1910,91972266,15968000,17.07\\n',\n",
              " '1920,105710620,25117000,23.76\\n',\n",
              " '1930,122775046,40156000,32.71\\n',\n",
              " '1940,131669275,67527000,51.29\\n',\n",
              " '1950,151325798,91462000,60.44\\n',\n",
              " '1960,179323175,127934000,71.34\\n',\n",
              " '1970,203302031,247653000,1.22\\n',\n",
              " '1980,226542199,1078488000,4.76\\n',\n",
              " '1990,248718301,2492830000,10.02\\n',\n",
              " '2000,281421906,45000000000,15.99\\n',\n",
              " '2010,308745538,13000000000,42.11\\n']"
            ]
          },
          "metadata": {},
          "execution_count": 10
        }
      ]
    }
  ]
}