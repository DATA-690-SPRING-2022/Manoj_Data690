{
  "nbformat": 4,
  "nbformat_minor": 0,
  "metadata": {
    "colab": {
      "name": "Inclass_session_04.ipynb",
      "provenance": [],
      "authorship_tag": "ABX9TyOTzIal4BYzEEzbjxniBjSi",
      "include_colab_link": true
    },
    "kernelspec": {
      "name": "python3",
      "display_name": "Python 3"
    },
    "language_info": {
      "name": "python"
    }
  },
  "cells": [
    {
      "cell_type": "markdown",
      "metadata": {
        "id": "view-in-github",
        "colab_type": "text"
      },
      "source": [
        "<a href=\"https://colab.research.google.com/github/manojboyapati/Manoj_Data690/blob/main/Assignment_04/Inclass_session_04.ipynb\" target=\"_parent\"><img src=\"https://colab.research.google.com/assets/colab-badge.svg\" alt=\"Open In Colab\"/></a>"
      ]
    },
    {
      "cell_type": "markdown",
      "source": [
        "In Class Practice\n",
        "\n",
        "Date: 02/21/2022\n",
        "\n",
        "Name: Manoj\n",
        "\n"
      ],
      "metadata": {
        "id": "oJ8js5GG0f9C"
      }
    },
    {
      "cell_type": "code",
      "execution_count": 1,
      "metadata": {
        "colab": {
          "base_uri": "https://localhost:8080/"
        },
        "id": "kYUki5vw0YPV",
        "outputId": "6e010846-23e6-4139-d6b7-6105b978af79"
      },
      "outputs": [
        {
          "output_type": "stream",
          "name": "stdout",
          "text": [
            "\n",
            " 8 @ 0 @ 4 2 0 4 @ 2 \n",
            " 4 0 2 @ @ @ 8 @ @ 2 \n",
            " @ 0 @ @ @ 8 0 4 @ @ \n",
            " 8 @ 6 @ 6 @ @ 6 0 @ \n",
            " @ @ 0 0 @ @ @ @ 2 @ \n",
            " 6 8 4 @ @ @ 8 @ 4 4 \n",
            " @ 4 2 8 @ 8 0 @ @ @ \n",
            " @ @ 4 6 @ 0 @ 0 0 @ \n",
            " @ @ @ 6 6 @ 6 2 @ @ \n",
            " @ 6 @ @ 6 @ 8 4 @ 2 "
          ]
        }
      ],
      "source": [
        "import random\n",
        "import re\n",
        "for i in range(0,10):\n",
        "    print(end=\"\\n \")\n",
        "    for j in range(0,10):\n",
        "        num=random.randint(0,9)\n",
        "        if (num % 2) == 0:\n",
        "            print(num, end=\" \")\n",
        "        else:\n",
        "            strnum = str(num)\n",
        "            strnum=strnum.replace(strnum,\"@\")\n",
        "            print(strnum, end=\" \")"
      ]
    },
    {
      "cell_type": "code",
      "source": [
        "x = \"Hello Worlpd!\"\n",
        "\n",
        "print(x)"
      ],
      "metadata": {
        "colab": {
          "base_uri": "https://localhost:8080/"
        },
        "id": "h1m1wv3T1LhO",
        "outputId": "f2b7716b-1700-496f-d326-2d1fb4a4b589"
      },
      "execution_count": 9,
      "outputs": [
        {
          "output_type": "stream",
          "name": "stdout",
          "text": [
            "Hello Worlpd!\n"
          ]
        }
      ]
    },
    {
      "cell_type": "code",
      "source": [
        "x = x.replace(\"p\", \"\")\n",
        "\n",
        "print(x)"
      ],
      "metadata": {
        "colab": {
          "base_uri": "https://localhost:8080/"
        },
        "id": "EGnfErE_1VWg",
        "outputId": "fc2078f7-7396-432f-97f7-1d2cd3c80631"
      },
      "execution_count": 10,
      "outputs": [
        {
          "output_type": "stream",
          "name": "stdout",
          "text": [
            "Hello World!\n"
          ]
        }
      ]
    },
    {
      "cell_type": "code",
      "source": [
        "x = x.replace(\"Hello\", \"Hi\")\n",
        "\n",
        "print(x)"
      ],
      "metadata": {
        "colab": {
          "base_uri": "https://localhost:8080/"
        },
        "id": "3sWiAew81z03",
        "outputId": "8ad29baf-4020-4680-c2ff-98bdc00569cd"
      },
      "execution_count": 11,
      "outputs": [
        {
          "output_type": "stream",
          "name": "stdout",
          "text": [
            "Hi World!\n"
          ]
        }
      ]
    },
    {
      "cell_type": "code",
      "source": [
        "x = x.upper()\n",
        "print(x)"
      ],
      "metadata": {
        "colab": {
          "base_uri": "https://localhost:8080/"
        },
        "id": "k_aPHOcR2Fnn",
        "outputId": "c3276572-75af-4d40-c6eb-3f06714fa5ed"
      },
      "execution_count": 12,
      "outputs": [
        {
          "output_type": "stream",
          "name": "stdout",
          "text": [
            "HI WORLD!\n"
          ]
        }
      ]
    },
    {
      "cell_type": "code",
      "source": [
        "x = x.lower()\n",
        "print(x)"
      ],
      "metadata": {
        "colab": {
          "base_uri": "https://localhost:8080/"
        },
        "id": "_BhH0WfD2jB1",
        "outputId": "aafda78e-d380-40f9-809b-bae8f98c1c27"
      },
      "execution_count": 13,
      "outputs": [
        {
          "output_type": "stream",
          "name": "stdout",
          "text": [
            "hi world!\n"
          ]
        }
      ]
    },
    {
      "cell_type": "markdown",
      "source": [
        "String Function/methods/operators\n",
        "* upper()\n",
        "\n",
        "* lower()\n",
        "\n",
        "* replace()\n",
        "\n",
        "* strip()\n",
        "\n",
        "* lstrip()\n",
        "\n",
        "* rstrip()"
      ],
      "metadata": {
        "id": "UiVY0FV92_xi"
      }
    },
    {
      "cell_type": "code",
      "source": [
        "# Generate 100 number first\n",
        "\n",
        "numbers = []\n",
        "for i in range(100):\n",
        "    numbers.append(random.randint(0,9))\n",
        "\n",
        "print(numbers)"
      ],
      "metadata": {
        "colab": {
          "base_uri": "https://localhost:8080/"
        },
        "id": "a3fhLOHW2-tg",
        "outputId": "f40b2c74-fb93-41a6-86a0-8e663406c5c6"
      },
      "execution_count": 16,
      "outputs": [
        {
          "output_type": "stream",
          "name": "stdout",
          "text": [
            "[7, 9, 1, 0, 6, 6, 8, 6, 9, 8, 9, 0, 4, 6, 6, 3, 0, 9, 2, 2, 1, 3, 6, 2, 3, 2, 5, 5, 0, 0, 8, 5, 7, 7, 2, 2, 2, 8, 4, 7, 9, 1, 4, 9, 4, 9, 1, 3, 5, 8, 7, 6, 5, 9, 4, 2, 3, 4, 1, 7, 4, 4, 0, 5, 7, 5, 6, 3, 7, 6, 3, 3, 1, 0, 5, 8, 3, 9, 8, 0, 6, 5, 5, 4, 5, 6, 2, 4, 7, 6, 2, 9, 4, 8, 3, 8, 4, 5, 2, 3]\n"
          ]
        }
      ]
    },
    {
      "cell_type": "code",
      "source": [
        "for i in range(0,100,1):\n",
        "    print(\"index = \", i, \"number= \", numbers[i])"
      ],
      "metadata": {
        "colab": {
          "base_uri": "https://localhost:8080/"
        },
        "id": "GApXrdaV43cF",
        "outputId": "9ed90891-54e0-499b-c924-59f11d2c2dd2"
      },
      "execution_count": 19,
      "outputs": [
        {
          "output_type": "stream",
          "name": "stdout",
          "text": [
            "index =  0 number=  7\n",
            "index =  1 number=  9\n",
            "index =  2 number=  1\n",
            "index =  3 number=  0\n",
            "index =  4 number=  6\n",
            "index =  5 number=  6\n",
            "index =  6 number=  8\n",
            "index =  7 number=  6\n",
            "index =  8 number=  9\n",
            "index =  9 number=  8\n",
            "index =  10 number=  9\n",
            "index =  11 number=  0\n",
            "index =  12 number=  4\n",
            "index =  13 number=  6\n",
            "index =  14 number=  6\n",
            "index =  15 number=  3\n",
            "index =  16 number=  0\n",
            "index =  17 number=  9\n",
            "index =  18 number=  2\n",
            "index =  19 number=  2\n",
            "index =  20 number=  1\n",
            "index =  21 number=  3\n",
            "index =  22 number=  6\n",
            "index =  23 number=  2\n",
            "index =  24 number=  3\n",
            "index =  25 number=  2\n",
            "index =  26 number=  5\n",
            "index =  27 number=  5\n",
            "index =  28 number=  0\n",
            "index =  29 number=  0\n",
            "index =  30 number=  8\n",
            "index =  31 number=  5\n",
            "index =  32 number=  7\n",
            "index =  33 number=  7\n",
            "index =  34 number=  2\n",
            "index =  35 number=  2\n",
            "index =  36 number=  2\n",
            "index =  37 number=  8\n",
            "index =  38 number=  4\n",
            "index =  39 number=  7\n",
            "index =  40 number=  9\n",
            "index =  41 number=  1\n",
            "index =  42 number=  4\n",
            "index =  43 number=  9\n",
            "index =  44 number=  4\n",
            "index =  45 number=  9\n",
            "index =  46 number=  1\n",
            "index =  47 number=  3\n",
            "index =  48 number=  5\n",
            "index =  49 number=  8\n",
            "index =  50 number=  7\n",
            "index =  51 number=  6\n",
            "index =  52 number=  5\n",
            "index =  53 number=  9\n",
            "index =  54 number=  4\n",
            "index =  55 number=  2\n",
            "index =  56 number=  3\n",
            "index =  57 number=  4\n",
            "index =  58 number=  1\n",
            "index =  59 number=  7\n",
            "index =  60 number=  4\n",
            "index =  61 number=  4\n",
            "index =  62 number=  0\n",
            "index =  63 number=  5\n",
            "index =  64 number=  7\n",
            "index =  65 number=  5\n",
            "index =  66 number=  6\n",
            "index =  67 number=  3\n",
            "index =  68 number=  7\n",
            "index =  69 number=  6\n",
            "index =  70 number=  3\n",
            "index =  71 number=  3\n",
            "index =  72 number=  1\n",
            "index =  73 number=  0\n",
            "index =  74 number=  5\n",
            "index =  75 number=  8\n",
            "index =  76 number=  3\n",
            "index =  77 number=  9\n",
            "index =  78 number=  8\n",
            "index =  79 number=  0\n",
            "index =  80 number=  6\n",
            "index =  81 number=  5\n",
            "index =  82 number=  5\n",
            "index =  83 number=  4\n",
            "index =  84 number=  5\n",
            "index =  85 number=  6\n",
            "index =  86 number=  2\n",
            "index =  87 number=  4\n",
            "index =  88 number=  7\n",
            "index =  89 number=  6\n",
            "index =  90 number=  2\n",
            "index =  91 number=  9\n",
            "index =  92 number=  4\n",
            "index =  93 number=  8\n",
            "index =  94 number=  3\n",
            "index =  95 number=  8\n",
            "index =  96 number=  4\n",
            "index =  97 number=  5\n",
            "index =  98 number=  2\n",
            "index =  99 number=  3\n"
          ]
        }
      ]
    },
    {
      "cell_type": "code",
      "source": [
        "count = 0\n",
        "for i in range(10):\n",
        "    for j in range(10):\n",
        "        print(numbers[count], \" \", end = \" \")\n",
        "        count+=1\n",
        "    print(\"\\n\")"
      ],
      "metadata": {
        "colab": {
          "base_uri": "https://localhost:8080/"
        },
        "id": "i-pipnMN3lKq",
        "outputId": "fd85ec70-1ac5-4a5e-e4d0-f320366ae7e4"
      },
      "execution_count": 18,
      "outputs": [
        {
          "output_type": "stream",
          "name": "stdout",
          "text": [
            "7   9   1   0   6   6   8   6   9   8   \n",
            "\n",
            "9   0   4   6   6   3   0   9   2   2   \n",
            "\n",
            "1   3   6   2   3   2   5   5   0   0   \n",
            "\n",
            "8   5   7   7   2   2   2   8   4   7   \n",
            "\n",
            "9   1   4   9   4   9   1   3   5   8   \n",
            "\n",
            "7   6   5   9   4   2   3   4   1   7   \n",
            "\n",
            "4   4   0   5   7   5   6   3   7   6   \n",
            "\n",
            "3   3   1   0   5   8   3   9   8   0   \n",
            "\n",
            "6   5   5   4   5   6   2   4   7   6   \n",
            "\n",
            "2   9   4   8   3   8   4   5   2   3   \n",
            "\n"
          ]
        }
      ]
    },
    {
      "cell_type": "code",
      "source": [
        "# when to initialize a variable\n",
        "\n",
        "sum=0\n",
        "for n in range (10): #repeats each row 10 times\n",
        "    for i in range(10): #repeats each integer 10 times\n",
        "       y=random.randint(0,9)\n",
        "       sum=sum+ y\n",
        "       print(y,end=\" \") #prints one integer with space at the end\n",
        "    print( \"*\",sum,end=\" \\n\")  #starts a new row after each 10 char\n",
        "    sum=0                     #resets sum to 0 before the next loop"
      ],
      "metadata": {
        "colab": {
          "base_uri": "https://localhost:8080/"
        },
        "id": "NImA_Vr38yVA",
        "outputId": "0ebe272e-dd03-4818-99b4-2151917af23b"
      },
      "execution_count": 22,
      "outputs": [
        {
          "output_type": "stream",
          "name": "stdout",
          "text": [
            "3 5 9 1 1 2 2 3 9 8 * 43 \n",
            "9 5 7 7 3 4 7 3 3 6 * 54 \n",
            "9 8 2 6 7 4 2 2 8 2 * 50 \n",
            "6 2 6 3 3 4 8 0 6 9 * 47 \n",
            "9 1 9 1 1 7 0 2 8 6 * 44 \n",
            "7 6 5 3 7 0 6 6 1 9 * 50 \n",
            "5 1 6 6 4 1 8 4 3 4 * 42 \n",
            "5 8 9 3 5 7 8 5 2 7 * 59 \n",
            "2 0 7 0 3 0 8 3 7 1 * 31 \n",
            "4 6 1 6 7 8 1 5 4 2 * 44 \n"
          ]
        }
      ]
    },
    {
      "cell_type": "code",
      "source": [
        "# When to intialize a variable\n",
        "\n",
        "\n",
        "for n in range(10):\n",
        "    sum = 0\n",
        "    for i in range(10):\n",
        "        y = random.randint(0,9)\n",
        "        sum=sum+y\n",
        "        print(\"y\", end=\" \")\n",
        "    print(\"*\",sum,end = \" \\n\")"
      ],
      "metadata": {
        "colab": {
          "base_uri": "https://localhost:8080/"
        },
        "id": "oyOFhKfc4ZuA",
        "outputId": "3c2854c5-38ae-4217-a373-8c6ed505d52a"
      },
      "execution_count": 20,
      "outputs": [
        {
          "output_type": "stream",
          "name": "stdout",
          "text": [
            "y y y y y y y y y y * 34 \n",
            "y y y y y y y y y y * 42 \n",
            "y y y y y y y y y y * 48 \n",
            "y y y y y y y y y y * 38 \n",
            "y y y y y y y y y y * 52 \n",
            "y y y y y y y y y y * 41 \n",
            "y y y y y y y y y y * 44 \n",
            "y y y y y y y y y y * 45 \n",
            "y y y y y y y y y y * 53 \n",
            "y y y y y y y y y y * 50 \n"
          ]
        }
      ]
    },
    {
      "cell_type": "code",
      "source": [
        "x = [0,0,0,0,0,0]\n",
        "print(x)"
      ],
      "metadata": {
        "colab": {
          "base_uri": "https://localhost:8080/"
        },
        "id": "myrINDer7s3b",
        "outputId": "fe2f2c07-0a82-4292-ff14-1408bbdf9ce8"
      },
      "execution_count": 21,
      "outputs": [
        {
          "output_type": "stream",
          "name": "stdout",
          "text": [
            "[0, 0, 0, 0, 0, 0]\n"
          ]
        }
      ]
    },
    {
      "cell_type": "code",
      "source": [
        "x = [0] * 6\n",
        "\n",
        "print(x)"
      ],
      "metadata": {
        "colab": {
          "base_uri": "https://localhost:8080/"
        },
        "id": "t2LAtebX7y2C",
        "outputId": "1d32a7ff-64f4-4ad9-90a8-4ee3141ba94f"
      },
      "execution_count": 23,
      "outputs": [
        {
          "output_type": "stream",
          "name": "stdout",
          "text": [
            "[0, 0, 0, 0, 0, 0]\n"
          ]
        }
      ]
    },
    {
      "cell_type": "code",
      "source": [
        "x = [0] * 100\n",
        "\n",
        "print(x)"
      ],
      "metadata": {
        "colab": {
          "base_uri": "https://localhost:8080/"
        },
        "id": "4DYQKF2f87A6",
        "outputId": "e801606f-a50a-4dfa-d452-d2318e2615b1"
      },
      "execution_count": 24,
      "outputs": [
        {
          "output_type": "stream",
          "name": "stdout",
          "text": [
            "[0, 0, 0, 0, 0, 0, 0, 0, 0, 0, 0, 0, 0, 0, 0, 0, 0, 0, 0, 0, 0, 0, 0, 0, 0, 0, 0, 0, 0, 0, 0, 0, 0, 0, 0, 0, 0, 0, 0, 0, 0, 0, 0, 0, 0, 0, 0, 0, 0, 0, 0, 0, 0, 0, 0, 0, 0, 0, 0, 0, 0, 0, 0, 0, 0, 0, 0, 0, 0, 0, 0, 0, 0, 0, 0, 0, 0, 0, 0, 0, 0, 0, 0, 0, 0, 0, 0, 0, 0, 0, 0, 0, 0, 0, 0, 0, 0, 0, 0, 0]\n"
          ]
        }
      ]
    },
    {
      "cell_type": "code",
      "source": [
        ""
      ],
      "metadata": {
        "id": "ozkhhVgc89Ue"
      },
      "execution_count": null,
      "outputs": []
    }
  ]
}