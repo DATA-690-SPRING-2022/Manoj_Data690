{
  "nbformat": 4,
  "nbformat_minor": 0,
  "metadata": {
    "colab": {
      "name": "help_for_hw03.ipynb",
      "provenance": [],
      "authorship_tag": "ABX9TyMAw2kKIZMhc6PNEjDLZIAE",
      "include_colab_link": true
    },
    "kernelspec": {
      "name": "python3",
      "display_name": "Python 3"
    },
    "language_info": {
      "name": "python"
    }
  },
  "cells": [
    {
      "cell_type": "markdown",
      "metadata": {
        "id": "view-in-github",
        "colab_type": "text"
      },
      "source": [
        "<a href=\"https://colab.research.google.com/github/manojboyapati/Manoj_Data690/blob/main/assignment_03/help_for_hw03.ipynb\" target=\"_parent\"><img src=\"https://colab.research.google.com/assets/colab-badge.svg\" alt=\"Open In Colab\"/></a>"
      ]
    },
    {
      "cell_type": "markdown",
      "source": [
        "# In class practise\n",
        "\n",
        "Date : 02/14\n",
        "\n",
        "Name : Manoj"
      ],
      "metadata": {
        "id": "FhHMGPUe3IAC"
      }
    },
    {
      "cell_type": "code",
      "execution_count": 2,
      "metadata": {
        "id": "YucOFHNPxC6d"
      },
      "outputs": [],
      "source": [
        "x = [2,5,10, \"Jay\", \"Wang\"]"
      ]
    },
    {
      "cell_type": "code",
      "source": [
        "for a in x:\n",
        "      print(a, end=\" * \")"
      ],
      "metadata": {
        "colab": {
          "base_uri": "https://localhost:8080/"
        },
        "id": "TsYRuSHhyvfk",
        "outputId": "aa03701f-2613-479a-e0fc-c992f6269c10"
      },
      "execution_count": 10,
      "outputs": [
        {
          "output_type": "stream",
          "name": "stdout",
          "text": [
            "2 * 5 * 10 * Jay * Wang * "
          ]
        }
      ]
    },
    {
      "cell_type": "code",
      "source": [
        "if 5 in x:\n",
        "  print(x)"
      ],
      "metadata": {
        "colab": {
          "base_uri": "https://localhost:8080/"
        },
        "id": "7DGz2HQbxYgL",
        "outputId": "a233d9c6-d054-48d8-887a-f5044f46a91a"
      },
      "execution_count": 7,
      "outputs": [
        {
          "output_type": "stream",
          "name": "stdout",
          "text": [
            "[2, 5, 10, 'Jay', 'Wang']\n"
          ]
        }
      ]
    },
    {
      "cell_type": "code",
      "source": [
        " y = [5, 1, 5, 6, 2, 7, 8, 6, 4, 2]\n",
        " print(y)"
      ],
      "metadata": {
        "colab": {
          "base_uri": "https://localhost:8080/"
        },
        "id": "YnnA8BEmy_wN",
        "outputId": "bf7746e6-7a2f-460e-c605-38ce44f82462"
      },
      "execution_count": 8,
      "outputs": [
        {
          "output_type": "stream",
          "name": "stdout",
          "text": [
            "[5, 1, 5, 6, 2, 7, 8, 6, 4, 2]\n"
          ]
        }
      ]
    },
    {
      "cell_type": "code",
      "source": [
        "for b in y:\n",
        "     print(b, end=\" \")"
      ],
      "metadata": {
        "colab": {
          "base_uri": "https://localhost:8080/"
        },
        "id": "M2F_ojZYza58",
        "outputId": "569ccff2-19ba-4cb1-a151-7ac0b7be6e44"
      },
      "execution_count": 11,
      "outputs": [
        {
          "output_type": "stream",
          "name": "stdout",
          "text": [
            "5 1 5 6 2 7 8 6 4 2 "
          ]
        }
      ]
    },
    {
      "cell_type": "code",
      "source": [
        "import random\n",
        "random.randint(0,9)"
      ],
      "metadata": {
        "colab": {
          "base_uri": "https://localhost:8080/"
        },
        "id": "cJnwq8MR0Arv",
        "outputId": "1aa19fe4-8112-4a26-9451-147e899f424c"
      },
      "execution_count": 21,
      "outputs": [
        {
          "output_type": "execute_result",
          "data": {
            "text/plain": [
              "0"
            ]
          },
          "metadata": {},
          "execution_count": 21
        }
      ]
    },
    {
      "cell_type": "code",
      "source": [
        "for i in range(0,10):\n",
        "  print(random.randint(0,9), end=\" \")"
      ],
      "metadata": {
        "colab": {
          "base_uri": "https://localhost:8080/"
        },
        "id": "ROyPlFUT0flk",
        "outputId": "c84d9658-bf2f-43d2-9c69-3e7f05bc6d0c"
      },
      "execution_count": 23,
      "outputs": [
        {
          "output_type": "stream",
          "name": "stdout",
          "text": [
            "1 5 6 2 6 8 0 6 3 7 "
          ]
        }
      ]
    },
    {
      "cell_type": "code",
      "source": [
        "for j in range(10):\n",
        "    for i in range(0,10):\n",
        "        print(random.randint(0,9), end=\" \") \n",
        "    print(\"\")\n",
        "  # print(\"\\n\", end=\"\")"
      ],
      "metadata": {
        "colab": {
          "base_uri": "https://localhost:8080/"
        },
        "id": "cQQ3gOcF011o",
        "outputId": "6002465a-739b-444a-d687-aa54b42c5c43"
      },
      "execution_count": 26,
      "outputs": [
        {
          "output_type": "stream",
          "name": "stdout",
          "text": [
            "9 9 0 2 6 1 9 1 0 8 \n",
            "2 6 1 7 1 9 8 4 4 8 \n",
            "4 8 9 4 6 2 6 8 4 2 \n",
            "1 6 3 8 7 0 1 6 6 2 \n",
            "7 8 9 8 8 7 4 9 6 2 \n",
            "4 4 4 1 7 7 6 9 5 0 \n",
            "7 1 8 6 2 5 8 1 3 9 \n",
            "4 5 6 8 0 8 6 2 1 9 \n",
            "3 9 0 5 3 8 2 9 6 4 \n",
            "2 9 1 7 8 1 3 7 1 2 \n"
          ]
        }
      ]
    },
    {
      "cell_type": "code",
      "source": [
        ""
      ],
      "metadata": {
        "id": "hFcuYD692Hg_"
      },
      "execution_count": null,
      "outputs": []
    }
  ]
}