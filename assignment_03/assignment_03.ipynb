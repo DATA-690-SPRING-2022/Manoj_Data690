{
  "nbformat": 4,
  "nbformat_minor": 0,
  "metadata": {
    "colab": {
      "name": "assignment_03.ipynb",
      "provenance": []
    },
    "kernelspec": {
      "name": "python3",
      "display_name": "Python 3"
    },
    "language_info": {
      "name": "python"
    }
  },
  "cells": [
    {
      "cell_type": "code",
      "execution_count": 1,
      "metadata": {
        "id": "L74vX1_vW12M"
      },
      "outputs": [],
      "source": [
        "import random"
      ]
    },
    {
      "cell_type": "markdown",
      "source": [
        "1. Program to print 10 by 10 matrix"
      ],
      "metadata": {
        "id": "3EJYlvSZXCUr"
      }
    },
    {
      "cell_type": "code",
      "source": [
        "for j in range(10):\n",
        "    for i in range(10):\n",
        "        num = random.randint(0,9)\n",
        "        print(num, end= \" \")\n",
        "\n",
        "    print(\" \")\n",
        "    "
      ],
      "metadata": {
        "colab": {
          "base_uri": "https://localhost:8080/"
        },
        "id": "MA1-_XLgXBMm",
        "outputId": "514dae89-42fc-4b2e-8d5f-34ee0daf7535"
      },
      "execution_count": 2,
      "outputs": [
        {
          "output_type": "stream",
          "name": "stdout",
          "text": [
            "3 8 6 0 8 3 2 3 6 5  \n",
            "6 5 4 6 3 6 8 5 3 8  \n",
            "6 4 4 0 6 7 2 0 8 9  \n",
            "7 8 0 7 8 2 4 1 5 8  \n",
            "3 3 2 2 3 1 7 0 7 8  \n",
            "4 2 9 4 5 1 5 5 0 2  \n",
            "1 2 2 0 5 6 6 7 3 3  \n",
            "5 5 6 7 9 4 9 8 6 3  \n",
            "1 7 9 0 3 1 5 0 4 2  \n",
            "4 0 9 3 5 1 7 6 7 3  \n"
          ]
        }
      ]
    },
    {
      "cell_type": "markdown",
      "source": [
        "2. Program to replace odd numbers in the matrix with \"@\""
      ],
      "metadata": {
        "id": "5Z4wZIOUXnJa"
      }
    },
    {
      "cell_type": "code",
      "source": [
        "for j in range(10):\n",
        "    for i in range(10):\n",
        "        num = random.randint(0,9)\n",
        "        if num%2 == 0:\n",
        "            print(num, end= \" \")\n",
        "        else:\n",
        "            print(\"@\", end = \" \")\n",
        "    print(\" \")\n",
        "         \n",
        "        "
      ],
      "metadata": {
        "colab": {
          "base_uri": "https://localhost:8080/"
        },
        "id": "mkuN3b52XlN0",
        "outputId": "66fdd8a0-cc8a-472c-9782-f85b79fe9ac8"
      },
      "execution_count": 3,
      "outputs": [
        {
          "output_type": "stream",
          "name": "stdout",
          "text": [
            "@ 4 2 0 8 8 @ @ 8 @  \n",
            "4 8 6 @ @ @ 0 4 4 2  \n",
            "@ @ 4 2 @ 6 @ @ @ @  \n",
            "@ 2 @ @ 8 4 @ @ @ 4  \n",
            "0 4 4 @ 0 @ 8 8 @ @  \n",
            "4 @ @ 0 6 @ 8 @ @ 4  \n",
            "8 @ 0 0 @ 8 0 @ 0 @  \n",
            "8 0 8 6 8 @ @ @ 8 @  \n",
            "0 8 @ 2 2 @ 2 @ 6 2  \n",
            "0 @ @ @ 8 @ 0 0 @ 4  \n"
          ]
        }
      ]
    },
    {
      "cell_type": "markdown",
      "source": [
        "3. Program for caluclation of rows in matrix and seperates the output with \"*\""
      ],
      "metadata": {
        "id": "vK9_fniOYCCw"
      }
    },
    {
      "cell_type": "code",
      "source": [
        "for j in range(10):\n",
        "    total = 0\n",
        "    for i in range(10):\n",
        "        num = random.randint(0,9)\n",
        "        print(num, end = \" \")\n",
        "        total = total+num\n",
        "    print(\"*\", end = \" \")\n",
        "    print( total, end = \" \")\n",
        "    print(\" \")"
      ],
      "metadata": {
        "colab": {
          "base_uri": "https://localhost:8080/"
        },
        "id": "pgq2jL-gX-rq",
        "outputId": "ecf9e06c-2b31-43ff-b935-45ca73adece0"
      },
      "execution_count": 4,
      "outputs": [
        {
          "output_type": "stream",
          "name": "stdout",
          "text": [
            "1 6 7 2 0 0 2 8 6 1 * 33  \n",
            "4 6 8 4 9 3 9 7 5 2 * 57  \n",
            "2 7 5 4 4 4 9 0 1 3 * 39  \n",
            "1 4 1 7 6 5 8 5 0 8 * 45  \n",
            "0 8 9 4 1 4 7 4 1 8 * 46  \n",
            "7 9 2 1 4 6 4 4 3 7 * 47  \n",
            "2 7 3 9 5 4 2 1 9 3 * 45  \n",
            "0 3 2 6 0 9 5 3 2 0 * 30  \n",
            "7 3 3 4 8 3 1 8 1 9 * 47  \n",
            "0 3 5 1 2 5 6 7 8 0 * 37  \n"
          ]
        }
      ]
    },
    {
      "cell_type": "markdown",
      "source": [
        "4. Program for surrounding matrix with \"*\""
      ],
      "metadata": {
        "id": "qqWqyWNdYkZP"
      }
    },
    {
      "cell_type": "code",
      "source": [
        "for i in range(23):\n",
        "    print(\"*\", end=\"\")\n",
        "print(\" \")\n",
        "for j in range(10):\n",
        "    #print(\"*\")\n",
        "    for i in range(10):\n",
        "        if i == 0:\n",
        "            print(\"*\", end = \" \")\n",
        "        num = random.randint(0,9)\n",
        "        print(num, end= \" \")\n",
        "    print(\"*\")\n",
        "for i in range(23):\n",
        "    print(\"*\", end=\"\")"
      ],
      "metadata": {
        "colab": {
          "base_uri": "https://localhost:8080/"
        },
        "id": "cRsj0Bd5YeGu",
        "outputId": "162ba7c9-a4ab-4998-936e-636db38e5a7c"
      },
      "execution_count": 5,
      "outputs": [
        {
          "output_type": "stream",
          "name": "stdout",
          "text": [
            "*********************** \n",
            "* 6 3 8 7 8 4 7 8 9 4 *\n",
            "* 9 2 0 8 2 7 8 7 2 6 *\n",
            "* 5 9 9 1 1 0 2 2 2 2 *\n",
            "* 9 7 1 9 4 9 2 6 6 9 *\n",
            "* 6 2 9 1 3 2 8 6 8 1 *\n",
            "* 1 5 2 8 3 1 5 6 6 2 *\n",
            "* 6 2 3 0 2 8 3 7 4 1 *\n",
            "* 1 6 3 6 8 4 7 5 6 8 *\n",
            "* 9 8 1 9 0 0 0 6 5 4 *\n",
            "* 0 6 0 2 2 8 1 7 7 7 *\n",
            "***********************"
          ]
        }
      ]
    },
    {
      "cell_type": "markdown",
      "source": [
        "5. Program for calucalting of total rows and columns and seperates the output with \"*\""
      ],
      "metadata": {
        "id": "fuuothNNY6fn"
      }
    },
    {
      "cell_type": "code",
      "source": [
        "sum = [0]*10\n",
        "for j in range(10):\n",
        "    totalr = 0\n",
        "    for i in range(10):\n",
        "        num = random.randint(0,9)\n",
        "        sum[i]+=num\n",
        "        print(num, end = \"  \")\n",
        "        totalr = totalr+num\n",
        "    print(\"*\", end = \"  \")\n",
        "    print( totalr, end = \" \")\n",
        "    print(\" \")\n",
        "for i in range(10):\n",
        "    print(\"*\",end = \"  \")\n",
        "print(\" \")\n",
        "for i in range(10):\n",
        "    print(sum[i],end = \" \")"
      ],
      "metadata": {
        "colab": {
          "base_uri": "https://localhost:8080/"
        },
        "id": "ts-GAR2gY2GR",
        "outputId": "83e2ad19-3d07-4f6b-ca6b-ee92a2af06ef"
      },
      "execution_count": 6,
      "outputs": [
        {
          "output_type": "stream",
          "name": "stdout",
          "text": [
            "8  8  3  9  1  1  1  5  9  7  *  52  \n",
            "8  4  3  5  1  3  1  9  8  0  *  42  \n",
            "1  7  1  4  1  2  4  6  6  2  *  34  \n",
            "5  8  3  0  1  6  1  5  2  5  *  36  \n",
            "1  9  9  7  1  0  7  7  2  1  *  44  \n",
            "9  8  8  2  1  2  4  5  0  8  *  47  \n",
            "1  6  5  3  2  1  7  4  9  2  *  40  \n",
            "6  4  7  6  8  7  7  8  6  6  *  65  \n",
            "3  7  6  3  0  6  8  3  8  3  *  47  \n",
            "0  6  9  4  9  8  7  1  3  8  *  55  \n",
            "*  *  *  *  *  *  *  *  *  *   \n",
            "42 67 54 43 25 36 47 53 53 42 "
          ]
        }
      ]
    },
    {
      "cell_type": "code",
      "source": [
        ""
      ],
      "metadata": {
        "id": "PVtv-mXiZNqj"
      },
      "execution_count": null,
      "outputs": []
    }
  ]
}