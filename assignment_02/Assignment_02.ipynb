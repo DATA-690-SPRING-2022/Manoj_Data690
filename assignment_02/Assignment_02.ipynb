{
  "nbformat": 4,
  "nbformat_minor": 0,
  "metadata": {
    "colab": {
      "name": "Assignment_02.ipynb",
      "provenance": [],
      "collapsed_sections": []
    },
    "kernelspec": {
      "name": "python3",
      "display_name": "Python 3"
    },
    "language_info": {
      "name": "python"
    }
  },
  "cells": [
    {
      "cell_type": "code",
      "execution_count": null,
      "metadata": {
        "id": "40Z3REt0uEcv"
      },
      "outputs": [],
      "source": [
        ""
      ]
    },
    {
      "cell_type": "markdown",
      "source": [
        "# Assignment_02\n",
        "Name: Manoj Boyapati\n"
      ],
      "metadata": {
        "id": "Kxuum6JKuFZ6"
      }
    },
    {
      "cell_type": "markdown",
      "source": [
        "10 Integers"
      ],
      "metadata": {
        "id": "UHOrZLqyumA_"
      }
    },
    {
      "cell_type": "code",
      "source": [
        "list = []\n",
        "print(\"Please enter 10 integers\")\n",
        "\n",
        "for num in range(10):\n",
        "    list_num = int(input(\"Enter a number:\"))\n",
        "    list.append(list_num)\n",
        "print(list)"
      ],
      "metadata": {
        "colab": {
          "base_uri": "https://localhost:8080/"
        },
        "id": "5gsxYmmWurFB",
        "outputId": "b6398344-6a0c-4a2a-8a7c-87fb6bf5a903"
      },
      "execution_count": 1,
      "outputs": [
        {
          "output_type": "stream",
          "name": "stdout",
          "text": [
            "Please enter 10 integers\n",
            "Enter a number:1\n",
            "Enter a number:2\n",
            "Enter a number:3\n",
            "Enter a number:4\n",
            "Enter a number:5\n",
            "Enter a number:6\n",
            "Enter a number:7\n",
            "Enter a number:8\n",
            "Enter a number:9\n",
            "Enter a number:11\n",
            "[1, 2, 3, 4, 5, 6, 7, 8, 9, 11]\n"
          ]
        }
      ]
    },
    {
      "cell_type": "markdown",
      "source": [
        "Minimum"
      ],
      "metadata": {
        "id": "T-YRdXTTu902"
      }
    },
    {
      "cell_type": "code",
      "source": [
        "\n",
        "min = list[0]\n",
        "for i in range(len(list)):\n",
        "    if list[i] < min:\n",
        "        min = list[i]\n",
        "print(\"Minimum:\", min)"
      ],
      "metadata": {
        "colab": {
          "base_uri": "https://localhost:8080/"
        },
        "id": "ZmWotU2Zu1fi",
        "outputId": "41ca8525-6f40-4745-e578-fdf26ccd6daf"
      },
      "execution_count": 2,
      "outputs": [
        {
          "output_type": "stream",
          "name": "stdout",
          "text": [
            "Minimum: 1\n"
          ]
        }
      ]
    },
    {
      "cell_type": "markdown",
      "source": [
        "Maximum"
      ],
      "metadata": {
        "id": "YcMXrWAtvDjL"
      }
    },
    {
      "cell_type": "code",
      "source": [
        "\n",
        "max = list[0]\n",
        "for i in range(len(list)):\n",
        "    if list[i] > max:\n",
        "        max = list[i]\n",
        "print(\"Maximum:\", max)"
      ],
      "metadata": {
        "colab": {
          "base_uri": "https://localhost:8080/"
        },
        "id": "HUy7XHpXu161",
        "outputId": "dca5f471-30e3-4166-9aa4-fe8129d707d3"
      },
      "execution_count": 3,
      "outputs": [
        {
          "output_type": "stream",
          "name": "stdout",
          "text": [
            "Maximum: 11\n"
          ]
        }
      ]
    },
    {
      "cell_type": "markdown",
      "source": [
        "Mean"
      ],
      "metadata": {
        "id": "XIwuaVqOvJd2"
      }
    },
    {
      "cell_type": "code",
      "source": [
        "\n",
        "Sum = 0\n",
        "for i in list:\n",
        "    Sum = Sum+i\n",
        "mean = Sum/len(list)\n",
        "print(\"Mean:\", mean)"
      ],
      "metadata": {
        "colab": {
          "base_uri": "https://localhost:8080/"
        },
        "id": "j63ct0Tou1s4",
        "outputId": "63697129-bf61-4bcc-807d-9d0c54cf2f01"
      },
      "execution_count": 4,
      "outputs": [
        {
          "output_type": "stream",
          "name": "stdout",
          "text": [
            "Mean: 5.6\n"
          ]
        }
      ]
    },
    {
      "cell_type": "markdown",
      "source": [
        "Varience"
      ],
      "metadata": {
        "id": "X4HXLiG_vRuU"
      }
    },
    {
      "cell_type": "code",
      "source": [
        "deviations = [(x - mean) ** 2 for x in list]\n",
        "print(deviations)\n",
        "varience = sum(deviations)/len(list)\n",
        "print(\"Varience:\", varience)"
      ],
      "metadata": {
        "colab": {
          "base_uri": "https://localhost:8080/"
        },
        "id": "X17FasYiu2IY",
        "outputId": "6ada458f-0f06-489c-e64e-5360a1f15c67"
      },
      "execution_count": 5,
      "outputs": [
        {
          "output_type": "stream",
          "name": "stdout",
          "text": [
            "[21.159999999999997, 12.959999999999997, 6.759999999999998, 2.5599999999999987, 0.3599999999999996, 0.16000000000000028, 1.960000000000001, 5.760000000000002, 11.560000000000002, 29.160000000000004]\n",
            "Varience: 9.24\n"
          ]
        }
      ]
    },
    {
      "cell_type": "markdown",
      "source": [
        "Standard Deviation"
      ],
      "metadata": {
        "id": "vE1m_ns4vUoF"
      }
    },
    {
      "cell_type": "code",
      "source": [
        "Stdv = varience ** 0.5\n",
        "print(\"Standard Deviation:\", Stdv)"
      ],
      "metadata": {
        "colab": {
          "base_uri": "https://localhost:8080/"
        },
        "id": "8URj25Uvu2WJ",
        "outputId": "efff3544-6532-448e-8cc8-db245099d130"
      },
      "execution_count": 6,
      "outputs": [
        {
          "output_type": "stream",
          "name": "stdout",
          "text": [
            "Standard Deviation: 3.0397368307141326\n"
          ]
        }
      ]
    },
    {
      "cell_type": "code",
      "source": [
        ""
      ],
      "metadata": {
        "id": "mQGOe-acvs3A"
      },
      "execution_count": null,
      "outputs": []
    }
  ]
}